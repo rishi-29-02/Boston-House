{
  "nbformat": 4,
  "nbformat_minor": 0,
  "metadata": {
    "colab": {
      "name": "boston_03.ipynb",
      "provenance": []
    },
    "kernelspec": {
      "name": "python3",
      "display_name": "Python 3"
    }
  },
  "cells": [
    {
      "cell_type": "code",
      "metadata": {
        "id": "XI3PzbsOzwu7"
      },
      "source": [
        "import pandas as pd\n",
        "from sklearn.preprocessing import StandardScaler\n",
        "from sklearn.model_selection import train_test_split\n",
        "from sklearn.ensemble import GradientBoostingRegressor\n",
        "from sklearn.metrics import mean_squared_error"
      ],
      "execution_count": 41,
      "outputs": []
    },
    {
      "cell_type": "code",
      "metadata": {
        "id": "bEIN2Rgrz2X_"
      },
      "source": [
        "# import the csv file \n",
        "#from google.colab import files\n",
        "#uploaded = files.upload()"
      ],
      "execution_count": 42,
      "outputs": []
    },
    {
      "cell_type": "code",
      "metadata": {
        "colab": {
          "base_uri": "https://localhost:8080/"
        },
        "id": "Ni1NIV150PGZ",
        "outputId": "757c74a6-44b3-4208-b23c-33f9e3f63385"
      },
      "source": [
        "# loading the data\n",
        "data = names = ['CRIM', 'ZN', 'INDUS', 'CHAS', 'NOX', 'RM', 'AGE', 'DIS', 'RAD', 'TAX', 'PTRATIO', 'B', 'LSTAT', 'MEDV']\n",
        "data = pd.read_csv('housing.csv', names=names, delim_whitespace=True)\n",
        "print(data)"
      ],
      "execution_count": 43,
      "outputs": [
        {
          "output_type": "stream",
          "text": [
            "        CRIM    ZN  INDUS  CHAS    NOX  ...    TAX  PTRATIO       B  LSTAT  MEDV\n",
            "0    0.00632  18.0   2.31     0  0.538  ...  296.0     15.3  396.90   4.98  24.0\n",
            "1    0.02731   0.0   7.07     0  0.469  ...  242.0     17.8  396.90   9.14  21.6\n",
            "2    0.02729   0.0   7.07     0  0.469  ...  242.0     17.8  392.83   4.03  34.7\n",
            "3    0.03237   0.0   2.18     0  0.458  ...  222.0     18.7  394.63   2.94  33.4\n",
            "4    0.06905   0.0   2.18     0  0.458  ...  222.0     18.7  396.90   5.33  36.2\n",
            "..       ...   ...    ...   ...    ...  ...    ...      ...     ...    ...   ...\n",
            "501  0.06263   0.0  11.93     0  0.573  ...  273.0     21.0  391.99   9.67  22.4\n",
            "502  0.04527   0.0  11.93     0  0.573  ...  273.0     21.0  396.90   9.08  20.6\n",
            "503  0.06076   0.0  11.93     0  0.573  ...  273.0     21.0  396.90   5.64  23.9\n",
            "504  0.10959   0.0  11.93     0  0.573  ...  273.0     21.0  393.45   6.48  22.0\n",
            "505  0.04741   0.0  11.93     0  0.573  ...  273.0     21.0  396.90   7.88  11.9\n",
            "\n",
            "[506 rows x 14 columns]\n"
          ],
          "name": "stdout"
        }
      ]
    },
    {
      "cell_type": "code",
      "metadata": {
        "id": "4n-iv5Yu1mgP"
      },
      "source": [
        "# Split the dataset\n",
        "array = dataset.values\n",
        "X = array[:, 0:13]\n",
        "Y = array[:, 13]"
      ],
      "execution_count": 44,
      "outputs": []
    },
    {
      "cell_type": "code",
      "metadata": {
        "id": "B_Jh-_WI1QZM"
      },
      "source": [
        "# Split the datset\n",
        "x_train, x_test, y_train, y_test = train_test_split(X, Y, test_size=0.20, random_state=42)"
      ],
      "execution_count": 45,
      "outputs": []
    },
    {
      "cell_type": "code",
      "metadata": {
        "colab": {
          "base_uri": "https://localhost:8080/"
        },
        "id": "mxXvx_pF0iiv",
        "outputId": "782f7cb0-4d51-409c-b35e-8e1db5a53fea"
      },
      "source": [
        "# prepare the model\n",
        "scaler = StandardScaler().fit(x_train)\n",
        "rescaledX = scaler.transform(x_train)\n",
        "model = GradientBoostingRegressor(random_state=42, n_estimators=400)\n",
        "model.fit(rescaledX, y_train)"
      ],
      "execution_count": 46,
      "outputs": [
        {
          "output_type": "execute_result",
          "data": {
            "text/plain": [
              "GradientBoostingRegressor(alpha=0.9, ccp_alpha=0.0, criterion='friedman_mse',\n",
              "                          init=None, learning_rate=0.1, loss='ls', max_depth=3,\n",
              "                          max_features=None, max_leaf_nodes=None,\n",
              "                          min_impurity_decrease=0.0, min_impurity_split=None,\n",
              "                          min_samples_leaf=1, min_samples_split=2,\n",
              "                          min_weight_fraction_leaf=0.0, n_estimators=400,\n",
              "                          n_iter_no_change=None, presort='deprecated',\n",
              "                          random_state=42, subsample=1.0, tol=0.0001,\n",
              "                          validation_fraction=0.1, verbose=0, warm_start=False)"
            ]
          },
          "metadata": {
            "tags": []
          },
          "execution_count": 46
        }
      ]
    },
    {
      "cell_type": "code",
      "metadata": {
        "colab": {
          "base_uri": "https://localhost:8080/"
        },
        "id": "-WPRtb170vYG",
        "outputId": "a7e446c0-e0ef-48c6-d96d-a4b729aac462"
      },
      "source": [
        "# transform the validation dataset\n",
        "rescaledValidationX = scaler.transform(x_test)\n",
        "predictions = model.predict(rescaledValidationX)\n",
        "print(mean_squared_error(y_test, predictions))"
      ],
      "execution_count": 47,
      "outputs": [
        {
          "output_type": "stream",
          "text": [
            "5.161056825953676\n"
          ],
          "name": "stdout"
        }
      ]
    },
    {
      "cell_type": "code",
      "metadata": {
        "colab": {
          "base_uri": "https://localhost:8080/"
        },
        "id": "flLcJOom2GfQ",
        "outputId": "76d36304-13fd-4ca1-ed4a-9589c5787791"
      },
      "source": [
        "print(predictions)"
      ],
      "execution_count": 48,
      "outputs": [
        {
          "output_type": "stream",
          "text": [
            "[23.81748645 33.07525737 15.98016657 23.73558986 33.43052052 22.08529386\n",
            " 12.64124592 10.61233971 21.56640011 20.66678308 23.21983791 22.08544633\n",
            " 26.48943015 21.44047828 19.70740584 22.23985433 20.35166183  7.78038034\n",
            " 36.15560368 15.86040146 24.05596841 34.99864134 19.25673284 22.42655605\n",
            " 15.09768226  8.07706709 27.53006902 21.60995154 19.0734938  21.04140185\n",
            " 24.18263609 11.4414575  17.34984964 21.11655318 20.9896607  18.10840211\n",
            " 34.0274054  19.19755373 18.7247323  25.17838077 18.4781331  17.39665688\n",
            " 25.66927315 20.69977044 21.41843785 27.74855334 13.93505056 21.94644758\n",
            " 19.15117959 19.11920925 20.0286179  44.42905124 13.49554674 17.41254564\n",
            " 21.84201931 21.60240475 16.23150526 33.13105954 26.49618042 21.11227491\n",
            " 31.69565597 24.28619813 23.2252104  19.3233726  13.76897787 21.07744707\n",
            " 12.69335829 21.84145212 33.94939097 16.25815813 19.24488199 13.73709222\n",
            " 19.21324104 20.92754434 20.15391417  5.01396215 17.63417584 45.61131539\n",
            " 12.23604366 11.03557528 24.11747854 12.06532469 40.01082873 10.35709992\n",
            " 20.27990253 23.19242116 15.36402347 23.23535625 20.07503391 14.85362842\n",
            " 21.34043061 17.75072233 20.25004939 24.06621875 24.23924086 17.71478491\n",
            " 18.84601798  9.6358206  24.59855152 22.80054617 24.55425182]\n"
          ],
          "name": "stdout"
        }
      ]
    },
    {
      "cell_type": "code",
      "metadata": {
        "colab": {
          "base_uri": "https://localhost:8080/"
        },
        "id": "mijx6_vP3AcW",
        "outputId": "01ccc4f8-de9b-4305-a223-4b866bb6d08f"
      },
      "source": [
        "print(y_test)"
      ],
      "execution_count": 49,
      "outputs": [
        {
          "output_type": "stream",
          "text": [
            "[22.6 32.  13.6 23.4 33.4 20.8 12.  14.4 19.6 16.8 23.  15.  23.7 20.3\n",
            " 18.5 21.6 21.4  7.2 33.3 14.1 24.4 35.1 14.5 22.4 14.2 11.8 28.  21.\n",
            " 19.3 18.3 23.6 14.9 15.  22.6 23.1 17.  33.4 19.5 20.  24.1 19.7 16.1\n",
            " 22.6 20.9 22.  24.8 13.5 21.7 19.9 21.6 21.7 46.  14.5 18.6 20.7 21.2\n",
            " 18.4 37.3 26.6 24.3 33.  24.7 24.3 18.2 17.2 21.7 13.1 22.9 34.9 12.7\n",
            " 16.6 16.3 16.2 20.6 21.2  5.  19.5 50.  10.9  7.  24.2 17.2 44.   9.7\n",
            " 19.4 24.  13.8 25.  20.6 13.3 24.6 18.5 23.  23.9 27.5 18.4 19.4 17.9\n",
            " 22.  22.9 22.2]\n"
          ],
          "name": "stdout"
        }
      ]
    },
    {
      "cell_type": "code",
      "metadata": {
        "id": "o-CvLSTQ3IsT"
      },
      "source": [
        ""
      ],
      "execution_count": 49,
      "outputs": []
    }
  ]
}